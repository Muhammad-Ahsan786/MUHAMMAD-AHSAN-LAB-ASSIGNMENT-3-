{
 "cells": [
  {
   "cell_type": "markdown",
   "id": "4a76a1dd-e0d1-4f08-a71e-273039dc51ed",
   "metadata": {},
   "source": [
    "# a) Dictionary to Store Person Information"
   ]
  },
  {
   "cell_type": "code",
   "execution_count": 9,
   "id": "001757e4-77f0-460f-83c2-0bbf68b1e064",
   "metadata": {},
   "outputs": [
    {
     "name": "stdout",
     "output_type": "stream",
     "text": [
      "{'name': 'Ahsan', 'age': 30, 'city': 'Hafizabad', 'hobbies': ['reading', 'cycling', 'traveling']}\n"
     ]
    }
   ],
   "source": [
    "person = {\n",
    "    \"name\": \"Ahsan\",\n",
    "    \"age\": 30,\n",
    "    \"city\": \"Hafizabad\",\n",
    "    \"hobbies\": [\"reading\", \"cycling\", \"traveling\"]\n",
    "}\n",
    "\n",
    "print(person)\n"
   ]
  },
  {
   "cell_type": "markdown",
   "id": "446ea8ce-7a64-40f1-bc8b-502e4d590e4d",
   "metadata": {},
   "source": [
    "# b) Word Frequency Counter"
   ]
  },
  {
   "cell_type": "code",
   "execution_count": 1,
   "id": "5d8403b3-9bad-4a1b-bfb4-8ccd59d5ba65",
   "metadata": {},
   "outputs": [
    {
     "name": "stdout",
     "output_type": "stream",
     "text": [
      "{'he': 1, 'is': 2, 'very': 2, 'intelligenthe': 1, 'happy': 1}\n"
     ]
    }
   ],
   "source": [
    "text = \"He is very intelligent.He is very happy\"\n",
    "words = text.lower().replace(\".\", \"\").split()\n",
    "\n",
    "frequency = {}\n",
    "for word in words:\n",
    "    frequency[word] = frequency.get(word, 0) + 1\n",
    "\n",
    "print(frequency)\n"
   ]
  },
  {
   "cell_type": "markdown",
   "id": "5b2c85e7-4539-4689-a7f0-d86e30cc5dc0",
   "metadata": {},
   "source": [
    "# c) Simple Inventory System"
   ]
  },
  {
   "cell_type": "code",
   "execution_count": 4,
   "id": "c88a83d7-efbe-48a9-99d7-c181c31518cc",
   "metadata": {},
   "outputs": [
    {
     "name": "stdout",
     "output_type": "stream",
     "text": [
      "apples: 15\n",
      "bananas: 3\n",
      "oranges: 8\n"
     ]
    }
   ],
   "source": [
    "inventory = {\n",
    "    \"apples\": 10,\n",
    "    \"bananas\": 5,\n",
    "    \"oranges\": 8\n",
    "}\n",
    "\n",
    "# Add stock\n",
    "inventory[\"apples\"] += 5\n",
    "\n",
    "# Sell item\n",
    "inventory[\"bananas\"] -= 2\n",
    "\n",
    "# Print inventory\n",
    "for item, quantity in inventory.items():\n",
    "    print(f\"{item}: {quantity}\")\n"
   ]
  },
  {
   "cell_type": "markdown",
   "id": "32bb0840-2008-42c4-ac26-ee93d7ee6468",
   "metadata": {},
   "source": [
    "# d) Analyze Orders for Most Popular Product Category"
   ]
  },
  {
   "cell_type": "code",
   "execution_count": 10,
   "id": "dc9a5035-3d3f-4c68-bfc5-e528ed9ccb11",
   "metadata": {},
   "outputs": [
    {
     "name": "stdout",
     "output_type": "stream",
     "text": [
      "Most popular category: Electronics\n"
     ]
    }
   ],
   "source": [
    "orders = [\n",
    "    {\"customer\": \"Ahsan\", \"category\": \"Electronics\"},\n",
    "    {\"customer\": \"Ali\", \"category\": \"Books\"},\n",
    "    {\"customer\": \"Hassan\", \"category\": \"Electronics\"},\n",
    "    {\"customer\": \"Imran\", \"category\": \"Clothing\"},\n",
    "    {\"customer\": \"Nouman\", \"category\": \"Books\"}\n",
    "]\n",
    "\n",
    "category_counts = {}\n",
    "\n",
    "for order in orders:\n",
    "    category = order[\"category\"]\n",
    "    category_counts[category] = category_counts.get(category, 0) + 1\n",
    "\n",
    "# Find the most popular category\n",
    "most_popular = max(category_counts, key=category_counts.get)\n",
    "print(\"Most popular category:\", most_popular)\n"
   ]
  },
  {
   "cell_type": "markdown",
   "id": "50ad0a49-944f-4f9a-8679-88f225515bb2",
   "metadata": {},
   "source": [
    "# e) Student Grades and Average Calculation"
   ]
  },
  {
   "cell_type": "code",
   "execution_count": 11,
   "id": "c91d3a9d-4ceb-43ba-ab2e-e748b171236a",
   "metadata": {},
   "outputs": [
    {
     "name": "stdout",
     "output_type": "stream",
     "text": [
      "Ahsan's average grade: 84.33\n",
      "Ali's average grade: 83.33\n",
      "Imran's average grade: 97.67\n"
     ]
    }
   ],
   "source": [
    "grades = {\n",
    "    \"Ahsan\": [85, 90, 78],\n",
    "    \"Ali\": [70, 88, 92],\n",
    "    \"Imran\": [95, 100, 98]\n",
    "}\n",
    "\n",
    "# Calculate and print average grades\n",
    "for student, scores in grades.items():\n",
    "    average = sum(scores) / len(scores)\n",
    "    print(f\"{student}'s average grade: {average:.2f}\")\n"
   ]
  },
  {
   "cell_type": "markdown",
   "id": "8c0704a0-9b4c-422f-bf2b-369774814003",
   "metadata": {},
   "source": [
    " # Inventory Management System"
   ]
  },
  {
   "cell_type": "code",
   "execution_count": 7,
   "id": "821e135b-d13c-41a1-b959-3111b32e3b36",
   "metadata": {},
   "outputs": [
    {
     "name": "stdout",
     "output_type": "stream",
     "text": [
      "Total inventory value: $ 29.5\n",
      "Low stock items:\n",
      "Notebook is low on stock: 3 left\n",
      "Eraser is low on stock: 2 left\n"
     ]
    }
   ],
   "source": [
    "# Simple inventory dictionary\n",
    "inventory = {}\n",
    "\n",
    "# Add a new product\n",
    "def add_product(name, quantity, price):\n",
    "    inventory[name] = {\"quantity\": quantity, \"price\": price}\n",
    "\n",
    "# Update quantity of a product\n",
    "def update_quantity(name, quantity):\n",
    "    if name in inventory:\n",
    "        inventory[name][\"quantity\"] += quantity\n",
    "    else:\n",
    "        print(f\"{name} not found.\")\n",
    "\n",
    "# Calculate total inventory value\n",
    "def total_value():\n",
    "    total = 0\n",
    "    for item in inventory.values():\n",
    "        total += item[\"quantity\"] * item[\"price\"]\n",
    "    return total\n",
    "\n",
    "# Show low stock items\n",
    "def low_stock(threshold):\n",
    "    for name, info in inventory.items():\n",
    "        if info[\"quantity\"] < threshold:\n",
    "            print(f\"{name} is low on stock: {info['quantity']} left\")\n",
    "\n",
    "# Example usage\n",
    "add_product(\"Pen\", 10, 1.5)\n",
    "add_product(\"Notebook\", 3, 2.0)\n",
    "add_product(\"Eraser\", 2, 0.5)\n",
    "\n",
    "update_quantity(\"Pen\", 5)\n",
    "\n",
    "print(\"Total inventory value: $\", total_value())\n",
    "print(\"Low stock items:\")\n",
    "low_stock(5)\n"
   ]
  },
  {
   "cell_type": "markdown",
   "id": "8ed397ac-96af-488a-a9c2-b5a3f62ca401",
   "metadata": {},
   "source": [
    "# Student Gradebook"
   ]
  },
  {
   "cell_type": "code",
   "execution_count": 8,
   "id": "c043285a-2fad-461c-8a9a-cba50e683553",
   "metadata": {},
   "outputs": [
    {
     "name": "stdout",
     "output_type": "stream",
     "text": [
      "Average grades per student:\n",
      "Alice: 84.33\n",
      "Bob: 81.00\n",
      "Charlie: 90.67\n",
      "\n",
      "Highest in Math: Charlie (95)\n",
      "Lowest in Math: Bob (75)\n",
      "\n",
      "Students sorted by average grade:\n",
      "Charlie: 90.67\n",
      "Alice: 84.33\n",
      "Bob: 81.00\n"
     ]
    }
   ],
   "source": [
    "# Student gradebook: student name -> subject grades\n",
    "gradebook = {\n",
    "    \"Alice\": {\"Math\": 85, \"English\": 90, \"Science\": 78},\n",
    "    \"Bob\": {\"Math\": 75, \"English\": 80, \"Science\": 88},\n",
    "    \"Charlie\": {\"Math\": 95, \"English\": 85, \"Science\": 92}\n",
    "}\n",
    "\n",
    "# Calculate average grade for each student\n",
    "def calculate_averages(gradebook):\n",
    "    averages = {}\n",
    "    for student, subjects in gradebook.items():\n",
    "        avg = sum(subjects.values()) / len(subjects)\n",
    "        averages[student] = avg\n",
    "    return averages\n",
    "\n",
    "# Find highest and lowest grade in a specific subject\n",
    "def subject_extremes(gradebook, subject):\n",
    "    subject_grades = {student: grades.get(subject, 0) for student, grades in gradebook.items()}\n",
    "    highest = max(subject_grades, key=subject_grades.get)\n",
    "    lowest = min(subject_grades, key=subject_grades.get)\n",
    "    return highest, subject_grades[highest], lowest, subject_grades[lowest]\n",
    "\n",
    "# Sort students by average grade (descending)\n",
    "def sort_by_average(averages):\n",
    "    return sorted(averages.items(), key=lambda x: x[1], reverse=True)\n",
    "\n",
    "# Usage\n",
    "averages = calculate_averages(gradebook)\n",
    "print(\"Average grades per student:\")\n",
    "for student, avg in averages.items():\n",
    "    print(f\"{student}: {avg:.2f}\")\n",
    "\n",
    "subject = \"Math\"\n",
    "high_name, high_grade, low_name, low_grade = subject_extremes(gradebook, subject)\n",
    "print(f\"\\nHighest in {subject}: {high_name} ({high_grade})\")\n",
    "print(f\"Lowest in {subject}: {low_name} ({low_grade})\")\n",
    "\n",
    "print(\"\\nStudents sorted by average grade:\")\n",
    "for student, avg in sort_by_average(averages):\n",
    "    print(f\"{student}: {avg:.2f}\")\n"
   ]
  },
  {
   "cell_type": "code",
   "execution_count": null,
   "id": "4f5119ac-9b73-45c0-94f0-46f5383cd59a",
   "metadata": {},
   "outputs": [],
   "source": []
  }
 ],
 "metadata": {
  "kernelspec": {
   "display_name": "Python 3 (ipykernel)",
   "language": "python",
   "name": "python3"
  },
  "language_info": {
   "codemirror_mode": {
    "name": "ipython",
    "version": 3
   },
   "file_extension": ".py",
   "mimetype": "text/x-python",
   "name": "python",
   "nbconvert_exporter": "python",
   "pygments_lexer": "ipython3",
   "version": "3.12.7"
  }
 },
 "nbformat": 4,
 "nbformat_minor": 5
}
