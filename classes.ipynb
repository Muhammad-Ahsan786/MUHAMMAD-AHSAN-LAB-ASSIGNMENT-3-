{
 "cells": [
  {
   "cell_type": "code",
   "execution_count": 7,
   "id": "90a8d6a7",
   "metadata": {},
   "outputs": [
    {
     "name": "stdout",
     "output_type": "stream",
     "text": [
      "Name: Ahsan, Age: 18, City: Hafizabad\n"
     ]
    }
   ],
   "source": [
    "class Person:\n",
    "    def __init__(self, name, age, city):\n",
    "        self.name = name\n",
    "        self.age = age\n",
    "        self.city = city\n",
    "\n",
    "# Creating an object with your details\n",
    "ahsan = Person(\"Ahsan\", 18, \"Hafizabad\")\n",
    "\n",
    "print(f\"Name: {ahsan.name}, Age: {ahsan.age}, City: {ahsan.city}\")\n"
   ]
  },
  {
   "cell_type": "code",
   "execution_count": 8,
   "id": "f3dd8cda",
   "metadata": {},
   "outputs": [
    {
     "name": "stdout",
     "output_type": "stream",
     "text": [
      "Car: Toyota Corolla, Year: 2020\n"
     ]
    }
   ],
   "source": [
    "class Car:\n",
    "    def __init__(self, make, model, year):\n",
    "        self.make = make\n",
    "        self.model = model\n",
    "        self.year = year\n",
    "\n",
    "# Example usage\n",
    "my_car = Car(\"Toyota\", \"Corolla\", 2020)\n",
    "print(f\"Car: {my_car.make} {my_car.model}, Year: {my_car.year}\")\n"
   ]
  },
  {
   "cell_type": "code",
   "execution_count": 9,
   "id": "4476d5c6",
   "metadata": {},
   "outputs": [
    {
     "name": "stdout",
     "output_type": "stream",
     "text": [
      "Area: 78.53981633974483\n",
      "Circumference: 31.41592653589793\n"
     ]
    }
   ],
   "source": [
    "import math\n",
    "\n",
    "class Circle:\n",
    "    def __init__(self, radius):\n",
    "        self.radius = radius\n",
    "\n",
    "    def area(self):\n",
    "        return math.pi * self.radius ** 2\n",
    "\n",
    "    def circumference(self):\n",
    "        return 2 * math.pi * self.radius\n",
    "\n",
    "# Example usage\n",
    "circle = Circle(5)\n",
    "print(\"Area:\", circle.area())\n",
    "print(\"Circumference:\", circle.circumference())\n"
   ]
  },
  {
   "cell_type": "code",
   "execution_count": 10,
   "id": "74441005",
   "metadata": {},
   "outputs": [
    {
     "name": "stdout",
     "output_type": "stream",
     "text": [
      "Area: 40\n",
      "Perimeter: 28\n"
     ]
    }
   ],
   "source": [
    "class Rectangle:\n",
    "    def __init__(self, length, width):\n",
    "        self.length = length\n",
    "        self.width = width\n",
    "\n",
    "    def area(self):\n",
    "        return self.length * self.width\n",
    "\n",
    "    def perimeter(self):\n",
    "        return 2 * (self.length + self.width)\n",
    "\n",
    "# Example usage\n",
    "rectangle = Rectangle(10, 4)\n",
    "print(\"Area:\", rectangle.area())\n",
    "print(\"Perimeter:\", rectangle.perimeter())\n"
   ]
  },
  {
   "cell_type": "code",
   "execution_count": 11,
   "id": "5394e1ce",
   "metadata": {},
   "outputs": [
    {
     "name": "stdout",
     "output_type": "stream",
     "text": [
      "Average Marks: 86.25\n"
     ]
    }
   ],
   "source": [
    "class Student:\n",
    "    def __init__(self, name, roll_number, marks):\n",
    "        self.name = name\n",
    "        self.roll_number = roll_number\n",
    "        self.marks = marks  # List of marks\n",
    "\n",
    "    def average_marks(self):\n",
    "        return sum(self.marks) / len(self.marks) if self.marks else 0\n",
    "\n",
    "# Example usage\n",
    "student = Student(\"Ahsan\", \"BDA101\", [85, 90, 78, 92])\n",
    "print(\"Average Marks:\", student.average_marks())\n"
   ]
  },
  {
   "cell_type": "code",
   "execution_count": 12,
   "id": "4cee55d4",
   "metadata": {},
   "outputs": [
    {
     "name": "stdout",
     "output_type": "stream",
     "text": [
      "Book: 1984 by George Orwell (1949)\n"
     ]
    }
   ],
   "source": [
    "class Book:\n",
    "    def __init__(self, title, author, publication_year):\n",
    "        self.title = title\n",
    "        self.author = author\n",
    "        self.publication_year = publication_year\n",
    "\n",
    "# Example usage\n",
    "book = Book(\"1984\", \"George Orwell\", 1949)\n",
    "print(f\"Book: {book.title} by {book.author} ({book.publication_year})\")\n"
   ]
  },
  {
   "cell_type": "code",
   "execution_count": 13,
   "id": "ccb6f6cf",
   "metadata": {},
   "outputs": [
    {
     "name": "stdout",
     "output_type": "stream",
     "text": [
      "Name: Ahsan, Salary: 50000, Designation: Data Analyst\n"
     ]
    }
   ],
   "source": [
    "class Employee:\n",
    "    def __init__(self, name, salary, designation):\n",
    "        self.name = name\n",
    "        self.salary = salary\n",
    "        self.designation = designation\n",
    "\n",
    "# Example usage\n",
    "employee = Employee(\"Ahsan\", 50000, \"Data Analyst\")\n",
    "print(f\"Name: {employee.name}, Salary: {employee.salary}, Designation: {employee.designation}\")\n"
   ]
  },
  {
   "cell_type": "code",
   "execution_count": 14,
   "id": "1c19ba4e",
   "metadata": {},
   "outputs": [
    {
     "name": "stdout",
     "output_type": "stream",
     "text": [
      "Deposited 500. New balance: 1500\n",
      "Withdrew 300. New balance: 1200\n"
     ]
    }
   ],
   "source": [
    "class Bank:\n",
    "    def __init__(self, name, account_number, balance=0):\n",
    "        self.name = name\n",
    "        self.account_number = account_number\n",
    "        self.balance = balance\n",
    "\n",
    "    def deposit(self, amount):\n",
    "        if amount > 0:\n",
    "            self.balance += amount\n",
    "            return f\"Deposited {amount}. New balance: {self.balance}\"\n",
    "        return \"Invalid deposit amount.\"\n",
    "\n",
    "    def withdraw(self, amount):\n",
    "        if 0 < amount <= self.balance:\n",
    "            self.balance -= amount\n",
    "            return f\"Withdrew {amount}. New balance: {self.balance}\"\n",
    "        return \"Insufficient balance or invalid amount.\"\n",
    "\n",
    "# Example usage\n",
    "account = Bank(\"Ahsan\", \"1234567890\", 1000)\n",
    "print(account.deposit(500))\n",
    "print(account.withdraw(300))\n"
   ]
  },
  {
   "cell_type": "code",
   "execution_count": 15,
   "id": "bffbe163",
   "metadata": {},
   "outputs": [
    {
     "name": "stdout",
     "output_type": "stream",
     "text": [
      "Circle Area: 78.53981633974483\n",
      "Rectangle Area: 40\n",
      "Triangle Area: 9.0\n"
     ]
    }
   ],
   "source": [
    "import math\n",
    "\n",
    "class Shape:\n",
    "    def area(self):\n",
    "        raise NotImplementedError(\"Subclasses must override area()\")\n",
    "\n",
    "class CircleShape(Shape):\n",
    "    def __init__(self, radius):\n",
    "        self.radius = radius\n",
    "\n",
    "    def area(self):\n",
    "        return math.pi * self.radius ** 2\n",
    "\n",
    "class RectangleShape(Shape):\n",
    "    def __init__(self, length, width):\n",
    "        self.length = length\n",
    "        self.width = width\n",
    "\n",
    "    def area(self):\n",
    "        return self.length * self.width\n",
    "\n",
    "class Triangle(Shape):\n",
    "    def __init__(self, base, height):\n",
    "        self.base = base\n",
    "        self.height = height\n",
    "\n",
    "    def area(self):\n",
    "        return 0.5 * self.base * self.height\n",
    "\n",
    "# Example usage\n",
    "circle = CircleShape(5)\n",
    "rectangle = RectangleShape(10, 4)\n",
    "triangle = Triangle(6, 3)\n",
    "\n",
    "print(\"Circle Area:\", circle.area())\n",
    "print(\"Rectangle Area:\", rectangle.area())\n",
    "print(\"Triangle Area:\", triangle.area())\n"
   ]
  },
  {
   "cell_type": "code",
   "execution_count": 16,
   "id": "eb6392d2",
   "metadata": {},
   "outputs": [
    {
     "name": "stdout",
     "output_type": "stream",
     "text": [
      "Buddy says: Woof!\n",
      "Kitty says: Meow!\n",
      "Bessie says: Moo!\n"
     ]
    }
   ],
   "source": [
    "class Animal:\n",
    "    def __init__(self, name):\n",
    "        self.name = name\n",
    "\n",
    "    def sound(self):\n",
    "        raise NotImplementedError(\"Subclasses must implement sound method\")\n",
    "\n",
    "class Dog(Animal):\n",
    "    def sound(self):\n",
    "        return \"Woof!\"\n",
    "\n",
    "class Cat(Animal):\n",
    "    def sound(self):\n",
    "        return \"Meow!\"\n",
    "\n",
    "class Cow(Animal):\n",
    "    def sound(self):\n",
    "        return \"Moo!\"\n",
    "\n",
    "# Example usage\n",
    "dog = Dog(\"Buddy\")\n",
    "cat = Cat(\"Kitty\")\n",
    "cow = Cow(\"Bessie\")\n",
    "\n",
    "print(f\"{dog.name} says: {dog.sound()}\")\n",
    "print(f\"{cat.name} says: {cat.sound()}\")\n",
    "print(f\"{cow.name} says: {cow.sound()}\")\n"
   ]
  }
 ],
 "metadata": {
  "kernelspec": {
   "display_name": "Python 3",
   "language": "python",
   "name": "python3"
  },
  "language_info": {
   "codemirror_mode": {
    "name": "ipython",
    "version": 3
   },
   "file_extension": ".py",
   "mimetype": "text/x-python",
   "name": "python",
   "nbconvert_exporter": "python",
   "pygments_lexer": "ipython3",
   "version": "3.13.2"
  }
 },
 "nbformat": 4,
 "nbformat_minor": 5
}
